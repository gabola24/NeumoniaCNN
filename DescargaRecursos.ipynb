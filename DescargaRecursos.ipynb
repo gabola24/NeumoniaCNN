{
 "cells": [
  {
   "cell_type": "markdown",
   "metadata": {},
   "source": [
    "# Se debe ejecutar previamente este script para descargar los datos, ademas de ser necesario  se deben instalar las siguientes librerias\n"
   ]
  },
  {
   "cell_type": "code",
   "execution_count": null,
   "metadata": {},
   "outputs": [],
   "source": [
    "!wget -nc https://www.dropbox.com/s/rv86n597aqw2pau/chest-xray-pneumonia.zip?dl=0;\n",
    "!unzip chest-xray-pneumonia.zip?dl=0\n",
    "!unzip chest_xray.zip"
   ]
  },
  {
   "cell_type": "code",
   "execution_count": null,
   "metadata": {},
   "outputs": [],
   "source": [
    "!wget -nc https://www.dropbox.com/s/ia04ofjjtzl1gry/vgg16.zip?dl=0\n",
    "!unzip  vgg16.zip?dl=0"
   ]
  },
  {
   "cell_type": "markdown",
   "metadata": {},
   "source": [
    "### De ser necesario se deben instalar las siguientes librerias utilizadas en el proyecto."
   ]
  },
  {
   "cell_type": "code",
   "execution_count": null,
   "metadata": {},
   "outputs": [],
   "source": [
    "#Descargar de ser necesario\n",
    "#pip install tensorflow\n",
    "#!pip install python-opencv\n",
    "#!pip install keras\n",
    "#!pip install h5py\n",
    "#!pip install pandas\n",
    "#!pip install seaborn\n",
    "\n",
    "\n"
   ]
  }
 ],
 "metadata": {
  "kernelspec": {
   "display_name": "Python 2",
   "language": "python",
   "name": "python2"
  },
  "language_info": {
   "codemirror_mode": {
    "name": "ipython",
    "version": 2
   },
   "file_extension": ".py",
   "mimetype": "text/x-python",
   "name": "python",
   "nbconvert_exporter": "python",
   "pygments_lexer": "ipython2",
   "version": "2.7.15"
  }
 },
 "nbformat": 4,
 "nbformat_minor": 2
}
